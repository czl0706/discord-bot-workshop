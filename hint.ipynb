{
 "cells": [
  {
   "cell_type": "markdown",
   "metadata": {},
   "source": [
    "### Hint for cp0"
   ]
  },
  {
   "cell_type": "code",
   "execution_count": 2,
   "metadata": {},
   "outputs": [
    {
     "data": {
      "text/plain": [
       "True"
      ]
     },
     "execution_count": 2,
     "metadata": {},
     "output_type": "execute_result"
    }
   ],
   "source": [
    "x = '123'\n",
    "\n",
    "'1' in x # True"
   ]
  },
  {
   "cell_type": "code",
   "execution_count": 3,
   "metadata": {},
   "outputs": [
    {
     "data": {
      "text/plain": [
       "'abc'"
      ]
     },
     "execution_count": 3,
     "metadata": {},
     "output_type": "execute_result"
    }
   ],
   "source": [
    "'ABC'.lower() \n",
    "# 輸出: 'abc'"
   ]
  },
  {
   "cell_type": "code",
   "execution_count": 1,
   "metadata": {},
   "outputs": [
    {
     "name": "stdout",
     "output_type": "stream",
     "text": [
      "Hello, czl!\n"
     ]
    }
   ],
   "source": [
    "author = 'czl'\n",
    "print(f'Hello, {author}!')\n",
    "# 輸出: Hello, czl!"
   ]
  },
  {
   "cell_type": "markdown",
   "metadata": {},
   "source": [
    "### Hint for cp1"
   ]
  },
  {
   "cell_type": "code",
   "execution_count": 1,
   "metadata": {},
   "outputs": [
    {
     "name": "stdout",
     "output_type": "stream",
     "text": [
      "23點02分\n"
     ]
    }
   ],
   "source": [
    "import time as t\n",
    "time_now = t.strftime(\"%H點%M分\", t.localtime())\n",
    "print(time_now) \n",
    "# 輸出: 23點02分 (現在時間)"
   ]
  },
  {
   "cell_type": "markdown",
   "metadata": {},
   "source": [
    "### Hint for cp4"
   ]
  },
  {
   "cell_type": "code",
   "execution_count": 3,
   "metadata": {},
   "outputs": [
    {
     "name": "stdout",
     "output_type": "stream",
     "text": [
      "arise\n",
      "chair\n",
      "close\n",
      "dance\n",
      "death\n",
      "early\n",
      "empty\n",
      "equal\n",
      "extra\n",
      "first\n",
      "force\n",
      "fresh\n",
      "front\n",
      "funny\n",
      "great\n",
      "green\n",
      "happy\n",
      "heavy\n",
      "human\n",
      "hurry\n",
      "image\n",
      "large\n",
      "light\n",
      "limit\n",
      "lucky\n",
      "magic\n",
      "major\n",
      "march\n",
      "metal\n",
      "money\n",
      "month\n",
      "music\n",
      "never\n",
      "north\n",
      "ocean\n",
      "offer\n",
      "often\n",
      "order\n",
      "other\n",
      "outer\n",
      "paper\n",
      "peace\n",
      "plant\n",
      "point\n",
      "power\n",
      "press\n",
      "price\n",
      "proud\n",
      "quick\n",
      "quiet\n",
      "ready\n",
      "right\n",
      "river\n",
      "round\n",
      "sense\n",
      "shape\n",
      "share\n",
      "sharp\n",
      "short\n",
      "sight\n",
      "since\n",
      "sleep\n",
      "small\n",
      "smile\n",
      "smoke\n",
      "solid\n",
      "sound\n",
      "south\n",
      "space\n",
      "speak\n",
      "speed\n",
      "spell\n",
      "spend\n",
      "start\n",
      "state\n",
      "steel\n",
      "stick\n",
      "still\n",
      "stone\n",
      "story\n",
      "study\n",
      "sugar\n",
      "super\n",
      "sweet\n",
      "table\n",
      "taste\n",
      "teach\n",
      "teeth\n",
      "thank\n",
      "their\n",
      "there\n",
      "thing\n",
      "think\n",
      "third\n",
      "those\n",
      "three\n",
      "throw\n",
      "thumb\n",
      "tiger\n",
      "title\n",
      "today\n",
      "tooth\n",
      "touch\n",
      "train\n",
      "under\n",
      "until\n",
      "upper\n",
      "value\n",
      "voice\n",
      "watch\n",
      "water\n",
      "wheel\n",
      "where\n",
      "while\n",
      "white\n",
      "whole\n",
      "whose\n",
      "woman\n",
      "world\n",
      "worry\n",
      "worse\n",
      "worth\n",
      "write\n",
      "wrong\n",
      "young\n",
      "youth\n"
     ]
    }
   ],
   "source": [
    "with open('./assets/wordlist.txt', 'r', encoding='utf-8') as f:\n",
    "    words = f.readlines()\n",
    "\n",
    "for word in words:\n",
    "    print(word.strip())\n",
    "    \n",
    "# 輸出:\n",
    "# arise\n",
    "# chair\n",
    "# close\n",
    "# dance\n",
    "# death\n",
    "# early\n",
    "# ..."
   ]
  },
  {
   "cell_type": "code",
   "execution_count": 3,
   "metadata": {},
   "outputs": [
    {
     "data": {
      "text/plain": [
       "5"
      ]
     },
     "execution_count": 3,
     "metadata": {},
     "output_type": "execute_result"
    }
   ],
   "source": [
    "import random \n",
    "\n",
    "x = [1, 2, 3, 4, 5]\n",
    "random.choice(x)"
   ]
  },
  {
   "cell_type": "code",
   "execution_count": 7,
   "metadata": {},
   "outputs": [
    {
     "name": "stdout",
     "output_type": "stream",
     "text": [
      "第1個字母相同\n",
      "a在y中\n",
      "第5個字母相同\n"
     ]
    }
   ],
   "source": [
    "x, y = 'happy', 'heavy'\n",
    "\n",
    "for i in range(len(x)):\n",
    "    if x[i] == y[i]:\n",
    "        print(f'第{i+1}個字母相同')\n",
    "    elif x[i] in y:\n",
    "        print(f'{x[i]}在y中')\n",
    "\n",
    "# 輸出:\n",
    "# 第1個字母相同\n",
    "# a在y中\n",
    "# 第5個字母相同"
   ]
  },
  {
   "cell_type": "markdown",
   "metadata": {},
   "source": [
    "### Hint for cp6"
   ]
  },
  {
   "cell_type": "code",
   "execution_count": 1,
   "metadata": {},
   "outputs": [
    {
     "name": "stdout",
     "output_type": "stream",
     "text": [
      "[{'_id': 'g9nVIulELAJiI8Og',\n",
      "  'mimetype': 'image/jpeg',\n",
      "  'size': 62705,\n",
      "  'tags': ['serious', 'cute', 'grey']},\n",
      " {'_id': 'PRHr1MTVrPmV08W1',\n",
      "  'mimetype': 'image/jpeg',\n",
      "  'size': 52137,\n",
      "  'tags': ['meme', 'cute', 'white', 'black']},\n",
      " {'_id': 'RDY1HuFYXvPcpiwH',\n",
      "  'mimetype': 'image/jpeg',\n",
      "  'size': 58705,\n",
      "  'tags': ['tired', 'grey', 'cute']},\n",
      " {'_id': 'tY7Ex9TAVb1Uz3KP',\n",
      "  'mimetype': 'image/jpeg',\n",
      "  'size': 39189,\n",
      "  'tags': ['cute', 'orange', 'kitten', 'eepy']},\n",
      " {'_id': '98qvAp6CYXZMLztN',\n",
      "  'mimetype': 'image/jpeg',\n",
      "  'size': 17084,\n",
      "  'tags': ['cute', 'angry', 'small', 'orange', 'kitten']},\n",
      " {'_id': '1wpap8yckt96vOoU',\n",
      "  'mimetype': 'image/jpeg',\n",
      "  'size': 18411,\n",
      "  'tags': ['cute', 'blurry', 'black', 'blep']},\n",
      " {'_id': 'Vo0hlVgMg4rXvUOt',\n",
      "  'mimetype': 'image/jpeg',\n",
      "  'size': 34013,\n",
      "  'tags': ['cute', 'big eyes', 'bobba eyes']},\n",
      " {'_id': '2wfWxhA4oS7bGUFW',\n",
      "  'mimetype': 'image/jpeg',\n",
      "  'size': 15792,\n",
      "  'tags': ['cute', 'valentine', 'heart']},\n",
      " {'_id': 'ePjD3dUht1wKH6A2',\n",
      "  'mimetype': 'image/jpeg',\n",
      "  'size': 7035,\n",
      "  'tags': ['cute', 'valentine', 'heart']},\n",
      " {'_id': '37guCJ2aCCt3m360',\n",
      "  'mimetype': 'image/jpeg',\n",
      "  'size': 7440,\n",
      "  'tags': ['cute', 'white']}]\n"
     ]
    }
   ],
   "source": [
    "import json\n",
    "from pprint import pprint\n",
    "\n",
    "with open('./assets/cats.json', 'r', encoding='utf-8') as f:\n",
    "    cats = json.load(f)\n",
    "    \n",
    "pprint(cats)\n",
    "# 輸出: \n",
    "# [{'_id': 'g9nVIulELAJiI8Og',\n",
    "#   'mimetype': 'image/jpeg',\n",
    "#   'size': 62705,\n",
    "#   'tags': ['serious', 'cute', 'grey']},\n",
    "# ... ]"
   ]
  },
  {
   "cell_type": "code",
   "execution_count": 2,
   "metadata": {},
   "outputs": [
    {
     "name": "stdout",
     "output_type": "stream",
     "text": [
      "{'_id': 'g9nVIulELAJiI8Og',\n",
      " 'mimetype': 'image/jpeg',\n",
      " 'size': 62705,\n",
      " 'tags': ['serious', 'cute', 'grey']}\n",
      "'g9nVIulELAJiI8Og'\n"
     ]
    }
   ],
   "source": [
    "pprint(cats[0])\n",
    "\n",
    "# 輸出:\n",
    "# {'_id': 'g9nVIulELAJiI8Og',\n",
    "#  'mimetype': 'image/jpeg',\n",
    "#  'size': 62705,\n",
    "#  'tags': ['serious', 'cute', 'grey']}\n",
    "\n",
    "cat = cats[0]\n",
    "\n",
    "pprint(cat['_id'])\n",
    "# 輸出: 'g9nVIulELAJiI8Og'\n"
   ]
  },
  {
   "cell_type": "markdown",
   "metadata": {},
   "source": [
    "### Hint for cp7"
   ]
  },
  {
   "cell_type": "code",
   "execution_count": 1,
   "metadata": {},
   "outputs": [
    {
     "name": "stdout",
     "output_type": "stream",
     "text": [
      "{'message': 'https://images.dog.ceo/breeds/malamute/n02110063_2390.jpg',\n",
      " 'status': 'success'}\n"
     ]
    }
   ],
   "source": [
    "from pprint import pprint\n",
    "import requests\n",
    "json_data = requests.get('https://dog.ceo/api/breeds/image/random').json()\n",
    "pprint(json_data)\n",
    "\n",
    "# 輸出:\n",
    "# {'message': ' https://images.dog.ceo/breeds/mix/sheltie-pomeranian-rylie.jpg',\n",
    "#  'status': 'success'}"
   ]
  },
  {
   "cell_type": "markdown",
   "metadata": {},
   "source": [
    "### Hint for cp8"
   ]
  },
  {
   "cell_type": "code",
   "execution_count": 5,
   "metadata": {},
   "outputs": [
    {
     "name": "stdout",
     "output_type": "stream",
     "text": [
      "{'records': {'locations': [{'dataid': 'D0047-053',\n",
      "                            'datasetDescription': '臺灣各縣市鄉鎮未來3天(72小時)逐3小時天氣預報',\n",
      "                            'location': [{'geocode': '10018010',\n",
      "                                          'lat': '24.806995',\n",
      "                                          'locationName': '東區',\n",
      "                                          'lon': '120.965302',\n",
      "                                          'weatherElement': [{'description': '溫度',\n",
      "                                                              'elementName': 'T',\n",
      "                                                              'time': [{'dataTime': '2024-03-23 '\n",
      "                                                                                    '00:00:00',\n",
      "                                                                        'elementValue': [{'measures': '攝氏度',\n",
      "                                                                                          'value': '20'}]},\n",
      "                                                                       {'dataTime': '2024-03-23 '\n",
      "                                                                                    '03:00:00',\n",
      "                                                                        'elementValue': [{'measures': '攝氏度',\n",
      "                                                                                          'value': '19'}]},\n",
      "                                                                       {'dataTime': '2024-03-23 '\n",
      "                                                                                    '06:00:00',\n",
      "                                                                        'elementValue': [{'measures': '攝氏度',\n",
      "                                                                                          'value': '18'}]},\n",
      "                                                                       {'dataTime': '2024-03-23 '\n",
      "                                                                                    '09:00:00',\n",
      "                                                                        'elementValue': [{'measures': '攝氏度',\n",
      "                                                                                          'value': '22'}]},\n",
      "                                                                       {'dataTime': '2024-03-23 '\n",
      "                                                                                    '12:00:00',\n",
      "                                                                        'elementValue': [{'measures': '攝氏度',\n",
      "                                                                                          'value': '26'}]},\n",
      "                                                                       {'dataTime': '2024-03-23 '\n",
      "                                                                                    '15:00:00',\n",
      "                                                                        'elementValue': [{'measures': '攝氏度',\n",
      "                                                                                          'value': '26'}]},\n",
      "                                                                       {'dataTime': '2024-03-23 '\n",
      "                                                                                    '18:00:00',\n",
      "                                                                        'elementValue': [{'measures': '攝氏度',\n",
      "                                                                                          'value': '24'}]},\n",
      "                                                                       {'dataTime': '2024-03-23 '\n",
      "                                                                                    '21:00:00',\n",
      "                                                                        'elementValue': [{'measures': '攝氏度',\n",
      "                                                                                          'value': '22'}]},\n",
      "                                                                       {'dataTime': '2024-03-24 '\n",
      "                                                                                    '00:00:00',\n",
      "                                                                        'elementValue': [{'measures': '攝氏度',\n",
      "                                                                                          'value': '21'}]},\n",
      "                                                                       {'dataTime': '2024-03-24 '\n",
      "                                                                                    '03:00:00',\n",
      "                                                                        'elementValue': [{'measures': '攝氏度',\n",
      "                                                                                          'value': '20'}]},\n",
      "                                                                       {'dataTime': '2024-03-24 '\n",
      "                                                                                    '06:00:00',\n",
      "                                                                        'elementValue': [{'measures': '攝氏度',\n",
      "                                                                                          'value': '19'}]},\n",
      "                                                                       {'dataTime': '2024-03-24 '\n",
      "                                                                                    '09:00:00',\n",
      "                                                                        'elementValue': [{'measures': '攝氏度',\n",
      "                                                                                          'value': '22'}]},\n",
      "                                                                       {'dataTime': '2024-03-24 '\n",
      "                                                                                    '12:00:00',\n",
      "                                                                        'elementValue': [{'measures': '攝氏度',\n",
      "                                                                                          'value': '26'}]},\n",
      "                                                                       {'dataTime': '2024-03-24 '\n",
      "                                                                                    '15:00:00',\n",
      "                                                                        'elementValue': [{'measures': '攝氏度',\n",
      "                                                                                          'value': '26'}]},\n",
      "                                                                       {'dataTime': '2024-03-24 '\n",
      "                                                                                    '18:00:00',\n",
      "                                                                        'elementValue': [{'measures': '攝氏度',\n",
      "                                                                                          'value': '24'}]},\n",
      "                                                                       {'dataTime': '2024-03-24 '\n",
      "                                                                                    '21:00:00',\n",
      "                                                                        'elementValue': [{'measures': '攝氏度',\n",
      "                                                                                          'value': '22'}]},\n",
      "                                                                       {'dataTime': '2024-03-25 '\n",
      "                                                                                    '00:00:00',\n",
      "                                                                        'elementValue': [{'measures': '攝氏度',\n",
      "                                                                                          'value': '21'}]},\n",
      "                                                                       {'dataTime': '2024-03-25 '\n",
      "                                                                                    '03:00:00',\n",
      "                                                                        'elementValue': [{'measures': '攝氏度',\n",
      "                                                                                          'value': '20'}]},\n",
      "                                                                       {'dataTime': '2024-03-25 '\n",
      "                                                                                    '06:00:00',\n",
      "                                                                        'elementValue': [{'measures': '攝氏度',\n",
      "                                                                                          'value': '20'}]},\n",
      "                                                                       {'dataTime': '2024-03-25 '\n",
      "                                                                                    '09:00:00',\n",
      "                                                                        'elementValue': [{'measures': '攝氏度',\n",
      "                                                                                          'value': '23'}]},\n",
      "                                                                       {'dataTime': '2024-03-25 '\n",
      "                                                                                    '12:00:00',\n",
      "                                                                        'elementValue': [{'measures': '攝氏度',\n",
      "                                                                                          'value': '26'}]},\n",
      "                                                                       {'dataTime': '2024-03-25 '\n",
      "                                                                                    '15:00:00',\n",
      "                                                                        'elementValue': [{'measures': '攝氏度',\n",
      "                                                                                          'value': '26'}]},\n",
      "                                                                       {'dataTime': '2024-03-25 '\n",
      "                                                                                    '18:00:00',\n",
      "                                                                        'elementValue': [{'measures': '攝氏度',\n",
      "                                                                                          'value': '24'}]},\n",
      "                                                                       {'dataTime': '2024-03-25 '\n",
      "                                                                                    '21:00:00',\n",
      "                                                                        'elementValue': [{'measures': '攝氏度',\n",
      "                                                                                          'value': '23'}]},\n",
      "                                                                       {'dataTime': '2024-03-26 '\n",
      "                                                                                    '00:00:00',\n",
      "                                                                        'elementValue': [{'measures': '攝氏度',\n",
      "                                                                                          'value': '23'}]},\n",
      "                                                                       {'dataTime': '2024-03-26 '\n",
      "                                                                                    '03:00:00',\n",
      "                                                                        'elementValue': [{'measures': '攝氏度',\n",
      "                                                                                          'value': '22'}]},\n",
      "                                                                       {'dataTime': '2024-03-26 '\n",
      "                                                                                    '06:00:00',\n",
      "                                                                        'elementValue': [{'measures': '攝氏度',\n",
      "                                                                                          'value': '22'}]},\n",
      "                                                                       {'dataTime': '2024-03-26 '\n",
      "                                                                                    '09:00:00',\n",
      "                                                                        'elementValue': [{'measures': '攝氏度',\n",
      "                                                                                          'value': '23'}]},\n",
      "                                                                       {'dataTime': '2024-03-26 '\n",
      "                                                                                    '12:00:00',\n",
      "                                                                        'elementValue': [{'measures': '攝氏度',\n",
      "                                                                                          'value': '25'}]},\n",
      "                                                                       {'dataTime': '2024-03-26 '\n",
      "                                                                                    '15:00:00',\n",
      "                                                                        'elementValue': [{'measures': '攝氏度',\n",
      "                                                                                          'value': '25'}]},\n",
      "                                                                       {'dataTime': '2024-03-26 '\n",
      "                                                                                    '18:00:00',\n",
      "                                                                        'elementValue': [{'measures': '攝氏度',\n",
      "                                                                                          'value': '22'}]},\n",
      "                                                                       {'dataTime': '2024-03-26 '\n",
      "                                                                                    '21:00:00',\n",
      "                                                                        'elementValue': [{'measures': '攝氏度',\n",
      "                                                                                          'value': '20'}]}]}]}],\n",
      "                            'locationsName': '新竹市'}]},\n",
      " 'result': {'fields': [{'id': 'contentDescription', 'type': 'String'},\n",
      "                       {'id': 'datasetDescription', 'type': 'String'},\n",
      "                       {'id': 'locationsName', 'type': 'String'},\n",
      "                       {'id': 'dataid', 'type': 'String'},\n",
      "                       {'id': 'locationName', 'type': 'String'},\n",
      "                       {'id': 'geocode', 'type': 'Double'},\n",
      "                       {'id': 'lat', 'type': 'Double'},\n",
      "                       {'id': 'lon', 'type': 'Double'},\n",
      "                       {'id': 'elementName', 'type': 'String'},\n",
      "                       {'id': 'description', 'type': 'String'},\n",
      "                       {'id': 'startTime', 'type': 'Timestamp'},\n",
      "                       {'id': 'endTime', 'type': 'Timestamp'},\n",
      "                       {'id': 'dataTime', 'type': 'Timestamp'},\n",
      "                       {'id': 'value', 'type': 'String'},\n",
      "                       {'id': 'measures', 'type': 'String'}],\n",
      "            'resource_id': 'F-D0047-053'},\n",
      " 'success': 'true'}\n"
     ]
    }
   ],
   "source": [
    "import requests\n",
    "from dotenv import load_dotenv\n",
    "import os\n",
    "from pprint import pprint\n",
    "\n",
    "load_dotenv()\n",
    "\n",
    "API_KEY = os.getenv('CWA_API_KEY')\n",
    "URL = f'https://opendata.cwa.gov.tw/api/v1/rest/datastore/F-D0047-053?Authorization={API_KEY}&locationName=%E6%9D%B1%E5%8D%80&limit=10&format=JSON&elementName=T'\n",
    "json_data = requests.get(URL).json()\n",
    "\n",
    "pprint(json_data)"
   ]
  },
  {
   "cell_type": "code",
   "execution_count": 6,
   "metadata": {},
   "outputs": [
    {
     "data": {
      "text/plain": [
       "[{'dataTime': '2024-03-23 00:00:00',\n",
       "  'elementValue': [{'value': '20', 'measures': '攝氏度'}]},\n",
       " {'dataTime': '2024-03-23 03:00:00',\n",
       "  'elementValue': [{'value': '19', 'measures': '攝氏度'}]},\n",
       " {'dataTime': '2024-03-23 06:00:00',\n",
       "  'elementValue': [{'value': '18', 'measures': '攝氏度'}]},\n",
       " {'dataTime': '2024-03-23 09:00:00',\n",
       "  'elementValue': [{'value': '22', 'measures': '攝氏度'}]},\n",
       " {'dataTime': '2024-03-23 12:00:00',\n",
       "  'elementValue': [{'value': '26', 'measures': '攝氏度'}]},\n",
       " {'dataTime': '2024-03-23 15:00:00',\n",
       "  'elementValue': [{'value': '26', 'measures': '攝氏度'}]},\n",
       " {'dataTime': '2024-03-23 18:00:00',\n",
       "  'elementValue': [{'value': '24', 'measures': '攝氏度'}]},\n",
       " {'dataTime': '2024-03-23 21:00:00',\n",
       "  'elementValue': [{'value': '22', 'measures': '攝氏度'}]},\n",
       " {'dataTime': '2024-03-24 00:00:00',\n",
       "  'elementValue': [{'value': '21', 'measures': '攝氏度'}]},\n",
       " {'dataTime': '2024-03-24 03:00:00',\n",
       "  'elementValue': [{'value': '20', 'measures': '攝氏度'}]},\n",
       " {'dataTime': '2024-03-24 06:00:00',\n",
       "  'elementValue': [{'value': '19', 'measures': '攝氏度'}]},\n",
       " {'dataTime': '2024-03-24 09:00:00',\n",
       "  'elementValue': [{'value': '22', 'measures': '攝氏度'}]},\n",
       " {'dataTime': '2024-03-24 12:00:00',\n",
       "  'elementValue': [{'value': '26', 'measures': '攝氏度'}]},\n",
       " {'dataTime': '2024-03-24 15:00:00',\n",
       "  'elementValue': [{'value': '26', 'measures': '攝氏度'}]},\n",
       " {'dataTime': '2024-03-24 18:00:00',\n",
       "  'elementValue': [{'value': '24', 'measures': '攝氏度'}]},\n",
       " {'dataTime': '2024-03-24 21:00:00',\n",
       "  'elementValue': [{'value': '22', 'measures': '攝氏度'}]},\n",
       " {'dataTime': '2024-03-25 00:00:00',\n",
       "  'elementValue': [{'value': '21', 'measures': '攝氏度'}]},\n",
       " {'dataTime': '2024-03-25 03:00:00',\n",
       "  'elementValue': [{'value': '20', 'measures': '攝氏度'}]},\n",
       " {'dataTime': '2024-03-25 06:00:00',\n",
       "  'elementValue': [{'value': '20', 'measures': '攝氏度'}]},\n",
       " {'dataTime': '2024-03-25 09:00:00',\n",
       "  'elementValue': [{'value': '23', 'measures': '攝氏度'}]},\n",
       " {'dataTime': '2024-03-25 12:00:00',\n",
       "  'elementValue': [{'value': '26', 'measures': '攝氏度'}]},\n",
       " {'dataTime': '2024-03-25 15:00:00',\n",
       "  'elementValue': [{'value': '26', 'measures': '攝氏度'}]},\n",
       " {'dataTime': '2024-03-25 18:00:00',\n",
       "  'elementValue': [{'value': '24', 'measures': '攝氏度'}]},\n",
       " {'dataTime': '2024-03-25 21:00:00',\n",
       "  'elementValue': [{'value': '23', 'measures': '攝氏度'}]},\n",
       " {'dataTime': '2024-03-26 00:00:00',\n",
       "  'elementValue': [{'value': '23', 'measures': '攝氏度'}]},\n",
       " {'dataTime': '2024-03-26 03:00:00',\n",
       "  'elementValue': [{'value': '22', 'measures': '攝氏度'}]},\n",
       " {'dataTime': '2024-03-26 06:00:00',\n",
       "  'elementValue': [{'value': '22', 'measures': '攝氏度'}]},\n",
       " {'dataTime': '2024-03-26 09:00:00',\n",
       "  'elementValue': [{'value': '23', 'measures': '攝氏度'}]},\n",
       " {'dataTime': '2024-03-26 12:00:00',\n",
       "  'elementValue': [{'value': '25', 'measures': '攝氏度'}]},\n",
       " {'dataTime': '2024-03-26 15:00:00',\n",
       "  'elementValue': [{'value': '25', 'measures': '攝氏度'}]},\n",
       " {'dataTime': '2024-03-26 18:00:00',\n",
       "  'elementValue': [{'value': '22', 'measures': '攝氏度'}]},\n",
       " {'dataTime': '2024-03-26 21:00:00',\n",
       "  'elementValue': [{'value': '20', 'measures': '攝氏度'}]}]"
      ]
     },
     "execution_count": 6,
     "metadata": {},
     "output_type": "execute_result"
    }
   ],
   "source": [
    "temp_data = ??????\n",
    "temp_data\n",
    "\n",
    "# 解析json_data，取得天氣預測的溫度資料\n",
    "# 輸出：\n",
    "# [{'dataTime': '2024-03-20 00:00:00',\n",
    "#   'elementValue': [{'value': '14', 'measures': '攝氏度'}]},\n",
    "#  {'dataTime': '2024-03-20 03:00:00',\n",
    "#   'elementValue': [{'value': '14', 'measures': '攝氏度'}]},\n",
    "#  {'dataTime': '2024-03-20 06:00:00',\n",
    "#   'elementValue': [{'value': '13', 'measures': '攝氏度'}]},\n",
    "#  {'dataTime': '2024-03-20 09:00:00',\n",
    "#   'elementValue': [{'value': '16', 'measures': '攝氏度'}]},\n",
    "#   ...\n",
    "# ]"
   ]
  },
  {
   "cell_type": "code",
   "execution_count": 7,
   "metadata": {},
   "outputs": [
    {
     "name": "stdout",
     "output_type": "stream",
     "text": [
      "2024-03-23 00:00:00 溫度: 20 度\n",
      "2024-03-23 03:00:00 溫度: 19 度\n",
      "2024-03-23 06:00:00 溫度: 18 度\n",
      "2024-03-23 09:00:00 溫度: 22 度\n",
      "2024-03-23 12:00:00 溫度: 26 度\n",
      "2024-03-23 15:00:00 溫度: 26 度\n",
      "2024-03-23 18:00:00 溫度: 24 度\n",
      "2024-03-23 21:00:00 溫度: 22 度\n",
      "2024-03-24 00:00:00 溫度: 21 度\n",
      "2024-03-24 03:00:00 溫度: 20 度\n"
     ]
    }
   ],
   "source": [
    "import datetime\n",
    "\n",
    "for i in range(10):\n",
    "    data_time = temp_data[i]['dataTime']\n",
    "    # 2024-03-20 00:00:00\n",
    "    data_time = datetime.datetime.strptime(data_time, '%Y-%m-%d %H:%M:%S')\n",
    "    temperature = temp_data[i]['elementValue'][0]['value']\n",
    "    \n",
    "    print(f'{data_time} 溫度: {temperature} 度')"
   ]
  }
 ],
 "metadata": {
  "kernelspec": {
   "display_name": ".venv",
   "language": "python",
   "name": "python3"
  },
  "language_info": {
   "codemirror_mode": {
    "name": "ipython",
    "version": 3
   },
   "file_extension": ".py",
   "mimetype": "text/x-python",
   "name": "python",
   "nbconvert_exporter": "python",
   "pygments_lexer": "ipython3",
   "version": "3.10.11"
  }
 },
 "nbformat": 4,
 "nbformat_minor": 2
}
